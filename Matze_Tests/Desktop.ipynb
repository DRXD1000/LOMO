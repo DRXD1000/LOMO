{
 "cells": [
  {
   "cell_type": "code",
   "execution_count": null,
   "metadata": {},
   "outputs": [],
   "source": [
    "from datasets import load_dataset \n",
    "from transformers import AutoTokenizer, DataCollatorForLanguageModeling\n",
    "ds = load_dataset(\"bjoernp/ultrachat_de\")\n",
    "tokenizer = AutoTokenizer.from_pretrained(\"HuggingFaceH4/Zephyr-7b-beta\")\n",
    "data_collator = DataCollatorForLanguageModeling(tokenizer=tokenizer,mlm=False)\n",
    "ds"
   ]
  },
  {
   "cell_type": "code",
   "execution_count": null,
   "metadata": {},
   "outputs": [],
   "source": [
    "from data_processing import _prepare_packed_dataloader\n",
    "train_ds = _prepare_packed_dataloader(tokenizer=tokenizer,\n",
    "                                      dataset=ds[\"train\"],\n",
    "                                      dataset_text_field=\"prompt\",\n",
    "                                      max_seq_length=512,\n",
    "                                      num_of_sequences=100,\n",
    "                                      chars_per_token=3.6)"
   ]
  },
  {
   "cell_type": "code",
   "execution_count": null,
   "metadata": {},
   "outputs": [],
   "source": [
    "from torch.utils.data import DataLoader\n",
    "train_dataloader = DataLoader(train_ds,shuffle=True,batch_size=2,collate_fn=data_collator)"
   ]
  },
  {
   "cell_type": "code",
   "execution_count": null,
   "metadata": {},
   "outputs": [],
   "source": [
    "for batch in train_dataloader:\n",
    "    break\n",
    "print({k: v.shape for k,v in batch.items()})"
   ]
  },
  {
   "cell_type": "code",
   "execution_count": null,
   "metadata": {},
   "outputs": [],
   "source": [
    "for i in range(3):\n",
    "    train_dataloader.sampler.set_epoch(i)"
   ]
  }
 ],
 "metadata": {
  "kernelspec": {
   "display_name": "master_1",
   "language": "python",
   "name": "python3"
  },
  "language_info": {
   "codemirror_mode": {
    "name": "ipython",
    "version": 3
   },
   "file_extension": ".py",
   "mimetype": "text/x-python",
   "name": "python",
   "nbconvert_exporter": "python",
   "pygments_lexer": "ipython3",
   "version": "3.9.18"
  }
 },
 "nbformat": 4,
 "nbformat_minor": 2
}
